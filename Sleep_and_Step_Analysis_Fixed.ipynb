{
 "cells": [
  {
   "cell_type": "markdown",
   "id": "4687dd09",
   "metadata": {},
   "source": [
    "# Sleep and Step Data Analysis\n",
    "\n",
    "This notebook consolidates all the data processing and visualization steps for analyzing the relationship between sleep duration and step counts.\n",
    "\n",
    "## Required Libraries\n",
    "Install necessary libraries before running the notebook:\n",
    "\n",
    "```bash\n",
    "pip install pandas matplotlib seaborn xmltodict\n",
    "```"
   ]
  },
  {
   "cell_type": "markdown",
   "id": "3017ac16",
   "metadata": {},
   "source": [
    "## Visualizing Data\n",
    "\n",
    "Explore the data using various visualization techniques."
   ]
  },
  {
   "cell_type": "markdown",
   "id": "af76c9f7",
   "metadata": {},
   "source": [
    "### Boxplot"
   ]
  },
  {
   "cell_type": "code",
   "execution_count": null,
   "id": "88f2d6f7",
   "metadata": {},
   "outputs": [],
   "source": [
    "\n",
    "plt.figure(figsize=(12, 6))\n",
    "plt.subplot(1, 2, 1)\n",
    "plt.boxplot(data['duration_hours'], patch_artist=True, boxprops=dict(facecolor=\"lightblue\"))\n",
    "plt.title('Boxplot of Sleep Duration')\n",
    "plt.ylabel('Hours')\n",
    "\n",
    "plt.subplot(1, 2, 2)\n",
    "plt.boxplot(data['steps'], patch_artist=True, boxprops=dict(facecolor=\"lightgreen\"))\n",
    "plt.title('Boxplot of Step Count')\n",
    "plt.ylabel('Steps')\n",
    "\n",
    "plt.tight_layout()\n",
    "plt.show()\n"
   ]
  },
  {
   "cell_type": "markdown",
   "id": "17222d08",
   "metadata": {},
   "source": [
    "Below is the generated boxplot for sleep duration and step count."
   ]
  },
  {
   "cell_type": "code",
   "execution_count": null,
   "id": "37dcc9b1",
   "metadata": {},
   "outputs": [],
   "source": [
    "from IPython.display import display, Image\n",
    "display(Image(filename=\"assets/Boxplot_Separately.png\"))"
   ]
  },
  {
   "cell_type": "markdown",
   "id": "74a97166",
   "metadata": {},
   "source": [
    "### Scatter Plot"
   ]
  },
  {
   "cell_type": "code",
   "execution_count": null,
   "id": "b3bd4d28",
   "metadata": {},
   "outputs": [],
   "source": [
    "\n",
    "plt.figure(figsize=(8, 6))\n",
    "plt.scatter(data['duration_hours'], data['steps'], alpha=0.6, color='purple')\n",
    "plt.title('Scatter Plot of Sleep Duration vs Step Count')\n",
    "plt.xlabel('Sleep Duration (hours)')\n",
    "plt.ylabel('Step Count')\n",
    "plt.grid()\n",
    "plt.show()\n"
   ]
  },
  {
   "cell_type": "markdown",
   "id": "2c098b30",
   "metadata": {},
   "source": [
    "Below is the scatter plot showing the relationship between sleep duration and step count."
   ]
  },
  {
   "cell_type": "code",
   "execution_count": null,
   "id": "2969acb2",
   "metadata": {},
   "outputs": [],
   "source": [
    "display(Image(filename=\"assets/Scatter_Plot.png\"))"
   ]
  },
  {
   "cell_type": "markdown",
   "id": "5a1108e9",
   "metadata": {},
   "source": [
    "### Hexbin Plot"
   ]
  },
  {
   "cell_type": "code",
   "execution_count": null,
   "id": "58826f63",
   "metadata": {},
   "outputs": [],
   "source": [
    "\n",
    "plt.figure(figsize=(12, 6))\n",
    "plt.hexbin(data['duration_hours'], data['steps'], gridsize=30, cmap='Blues', mincnt=1)\n",
    "plt.colorbar(label='Count')\n",
    "plt.title('Hexbin Plot of Sleep Duration vs Step Count')\n",
    "plt.xlabel('Sleep Duration (hours)')\n",
    "plt.ylabel('Step Count')\n",
    "plt.show()\n"
   ]
  },
  {
   "cell_type": "markdown",
   "id": "a12a5da5",
   "metadata": {},
   "source": [
    "Below is the hexbin plot for sleep duration vs step count."
   ]
  },
  {
   "cell_type": "code",
   "execution_count": null,
   "id": "f0cf052b",
   "metadata": {},
   "outputs": [],
   "source": [
    "display(Image(filename=\"assets/Hexbin_Plot.png\"))"
   ]
  }
 ],
 "metadata": {},
 "nbformat": 4,
 "nbformat_minor": 5
}
