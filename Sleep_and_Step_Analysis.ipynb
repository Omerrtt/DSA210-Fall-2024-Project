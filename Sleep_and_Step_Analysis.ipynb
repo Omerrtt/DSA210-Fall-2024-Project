{
 "cells": [
  {
   "cell_type": "markdown",
   "id": "a3b2bcee",
   "metadata": {},
   "source": [
    "# Sleep and Step Data Analysis\n",
    "\n",
    "This notebook combines all the data processing and visualization steps for the analysis of sleep duration and step counts.\n",
    "The goal is to understand the relationship between these two variables and present the findings using visualizations.\n",
    "\n",
    "## Required Libraries\n",
    "To run this notebook, make sure you have the following libraries installed:\n",
    "\n",
    "```bash\n",
    "pip install pandas matplotlib seaborn xmltodict\n",
    "```"
   ]
  },
  {
   "cell_type": "markdown",
   "id": "0ea6b453",
   "metadata": {},
   "source": [
    "## Processing Sleep Data\n",
    "\n",
    "The raw sleep data is stored in XML format. The following steps process the data and save it in CSV format."
   ]
  },
  {
   "cell_type": "code",
   "execution_count": null,
   "id": "e13288e8",
   "metadata": {},
   "outputs": [],
   "source": [
    "import xmltodict\n",
    "import pandas as pd\n",
    "\n",
    "# Load the XML file\n",
    "with open(\"data/raw/sleep_data.xml\", \"r\", encoding=\"utf-8\") as file:\n",
    "    xml_data = file.read()\n",
    "\n",
    "# Parse the XML file\n",
    "data_dict = xmltodict.parse(xml_data)\n",
    "records = data_dict[\"HealthData\"][\"Record\"]\n",
    "\n",
    "# Convert records to DataFrame\n",
    "df = pd.DataFrame(records)\n",
    "\n",
    "# Filter sleep data\n",
    "sleep_data = df[df['@type'] == 'HKCategoryTypeIdentifierSleepAnalysis']\n",
    "\n",
    "# Select and rename necessary columns\n",
    "sleep_data_cleaned = sleep_data[['@startDate', '@endDate', '@value']]\n",
    "sleep_data_cleaned.rename(columns={\n",
    "    '@startDate': 'startDate',\n",
    "    '@endDate': 'endDate',\n",
    "    '@value': 'sleepState'\n",
    "}, inplace=True)\n",
    "\n",
    "# Save processed sleep data\n",
    "sleep_data_cleaned.to_csv(\"data/processed/sleep_data.csv\", index=False)\n",
    "print(\"Sleep data processed and saved to 'data/processed/sleep_data.csv'.\")"
   ]
  },
  {
   "cell_type": "markdown",
   "id": "a90b0375",
   "metadata": {},
   "source": [
    "## Processing Step Data\n",
    "\n",
    "The raw step data is also stored in XML format. The following steps process the data and save it in CSV format."
   ]
  },
  {
   "cell_type": "code",
   "execution_count": null,
   "id": "d014c60b",
   "metadata": {},
   "outputs": [],
   "source": [
    "# Load the XML file for step data\n",
    "with open(\"data/raw/step_data.xml\", \"r\", encoding=\"utf-8\") as file:\n",
    "    xml_data = file.read()\n",
    "\n",
    "# Parse the XML file\n",
    "data_dict = xmltodict.parse(xml_data)\n",
    "records = data_dict[\"HealthData\"][\"Record\"]\n",
    "\n",
    "# Convert records to DataFrame\n",
    "df = pd.DataFrame(records)\n",
    "\n",
    "# Filter step count data\n",
    "step_data = df[df['@type'] == 'HKQuantityTypeIdentifierStepCount']\n",
    "\n",
    "# Select and rename necessary columns\n",
    "step_data_cleaned = step_data[['@startDate', '@endDate', '@value']]\n",
    "step_data_cleaned.rename(columns={\n",
    "    '@startDate': 'startDate',\n",
    "    '@endDate': 'endDate',\n",
    "    '@value': 'steps'\n",
    "}, inplace=True)\n",
    "\n",
    "# Save processed step data\n",
    "step_data_cleaned.to_csv(\"data/processed/step_data.csv\", index=False)\n",
    "print(\"Step data processed and saved to 'data/processed/step_data.csv'.\")"
   ]
  },
  {
   "cell_type": "markdown",
   "id": "3fc084b1",
   "metadata": {},
   "source": [
    "## Merging Sleep and Step Data\n",
    "\n",
    "After processing the sleep and step data, we merge them into a single dataset based on the date."
   ]
  },
  {
   "cell_type": "code",
   "execution_count": null,
   "id": "5a218b39",
   "metadata": {},
   "outputs": [],
   "source": [
    "# Load processed data\n",
    "sleep_data = pd.read_csv(\"data/processed/sleep_data.csv\")\n",
    "step_data = pd.read_csv(\"data/processed/step_data.csv\")\n",
    "\n",
    "# Convert date columns to datetime\n",
    "sleep_data['startDate'] = pd.to_datetime(sleep_data['startDate'])\n",
    "step_data['startDate'] = pd.to_datetime(step_data['startDate'])\n",
    "\n",
    "# Merge datasets\n",
    "merged_data = pd.merge(sleep_data, step_data, on='startDate', how='inner')\n",
    "\n",
    "# Save merged data\n",
    "merged_data.to_csv(\"data/processed/merged_sleep_step_data.csv\", index=False)\n",
    "print(\"Merged data saved to 'data/processed/merged_sleep_step_data.csv'.\")"
   ]
  },
  {
   "cell_type": "markdown",
   "id": "f67d5d85",
   "metadata": {},
   "source": [
    "## Visualizing Data: Boxplots\n",
    "\n",
    "Boxplots are used to show the distribution of sleep duration and step counts."
   ]
  },
  {
   "cell_type": "code",
   "execution_count": null,
   "id": "d03a4ff1",
   "metadata": {},
   "outputs": [],
   "source": [
    "import matplotlib.pyplot as plt\n",
    "\n",
    "# Load merged data\n",
    "data = pd.read_csv(\"data/processed/merged_sleep_step_data.csv\")\n",
    "\n",
    "# Boxplots\n",
    "plt.figure(figsize=(12, 6))\n",
    "\n",
    "# Sleep Duration Boxplot\n",
    "plt.subplot(1, 2, 1)\n",
    "plt.boxplot(data['duration_hours'], patch_artist=True, boxprops=dict(facecolor=\"lightblue\"))\n",
    "plt.title('Boxplot of Sleep Duration')\n",
    "plt.ylabel('Hours')\n",
    "\n",
    "# Step Count Boxplot\n",
    "plt.subplot(1, 2, 2)\n",
    "plt.boxplot(data['steps'], patch_artist=True, boxprops=dict(facecolor=\"lightgreen\"))\n",
    "plt.title('Boxplot of Step Count')\n",
    "plt.ylabel('Steps')\n",
    "\n",
    "plt.tight_layout()\n",
    "plt.show()"
   ]
  }
 ],
 "metadata": {},
 "nbformat": 4,
 "nbformat_minor": 5
}
