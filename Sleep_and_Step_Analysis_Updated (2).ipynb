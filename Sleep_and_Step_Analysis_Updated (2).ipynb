{
 "cells": [
  {
   "cell_type": "markdown",
   "id": "941be279",
   "metadata": {},
   "source": [
    "# Sleep and Step Data Analysis\n",
    "\n",
    "This notebook consolidates the data processing and visualization steps for analyzing the relationship between sleep duration and daily step counts."
   ]
  },
  {
   "cell_type": "markdown",
   "id": "022399da",
   "metadata": {},
   "source": [
    "### Dual Y-Axis Time Series Chart"
   ]
  },
  {
   "cell_type": "code",
   "execution_count": null,
   "id": "e52247bf",
   "metadata": {},
   "outputs": [],
   "source": [
    "\n",
    "import pandas as pd\n",
    "import matplotlib.pyplot as plt\n",
    "\n",
    "# Load the merged dataset\n",
    "file_path = 'merged_sleep_step_data.csv'  # Replace with your file name\n",
    "data = pd.read_csv(file_path)\n",
    "\n",
    "# Convert the date column to datetime format\n",
    "data['date'] = pd.to_datetime(data['date'])\n",
    "\n",
    "# Create the plot\n",
    "fig, ax1 = plt.subplots(figsize=(12, 6))\n",
    "\n",
    "# Plot sleep duration on the left y-axis\n",
    "ax1.set_xlabel('Date')\n",
    "ax1.set_ylabel('Sleep Duration (hours)', color='blue')\n",
    "ax1.plot(data['date'], data['duration_hours'], label='Sleep Duration (hours)', color='blue')\n",
    "ax1.tick_params(axis='y', labelcolor='blue')\n",
    "\n",
    "# Create a twin axis for the step count\n",
    "ax2 = ax1.twinx()\n",
    "ax2.set_ylabel('Step Count', color='green')\n",
    "ax2.plot(data['date'], data['steps'], label='Step Count', color='green', alpha=0.7)\n",
    "ax2.tick_params(axis='y', labelcolor='green')\n",
    "\n",
    "# Add a title\n",
    "plt.title('Time Series of Sleep Duration and Step Count')\n",
    "\n",
    "# Add a grid and show the plot\n",
    "fig.tight_layout()\n",
    "plt.grid()\n",
    "plt.show()\n"
   ]
  },
  {
   "cell_type": "markdown",
   "id": "e575fba0",
   "metadata": {},
   "source": [
    "![Dual Y-Axis Time Series Chart](assets/Dual_Y-Axis_Time_Series_Chart.png)"
   ]
  },
  {
   "cell_type": "markdown",
   "id": "57ec0279",
   "metadata": {},
   "source": [
    "### Hexbin Plot"
   ]
  },
  {
   "cell_type": "code",
   "execution_count": null,
   "id": "f5d4d6e6",
   "metadata": {},
   "outputs": [],
   "source": [
    "\n",
    "import pandas as pd\n",
    "import seaborn as sns\n",
    "import matplotlib.pyplot as plt\n",
    "\n",
    "# Load the CSV file\n",
    "file_path = 'merged_sleep_step_data.csv'  # Replace with your file name\n",
    "data = pd.read_csv(file_path)\n",
    "\n",
    "plt.figure(figsize=(12, 6))\n",
    "plt.hexbin(data['duration_hours'], data['steps'], gridsize=30, cmap='Blues', mincnt=1)\n",
    "plt.colorbar(label='Count')\n",
    "plt.title('Hexbin Plot of Sleep Duration vs Step Count', fontsize=14)\n",
    "plt.xlabel('Sleep Duration (hours)', fontsize=12)\n",
    "plt.ylabel('Step Count', fontsize=12)\n",
    "plt.show()\n"
   ]
  },
  {
   "cell_type": "markdown",
   "id": "b6c6b147",
   "metadata": {},
   "source": [
    "![Hexbin Plot](assets/Hexbin_Plot.png)"
   ]
  },
  {
   "cell_type": "markdown",
   "id": "06ef3e3d",
   "metadata": {},
   "source": [
    "### Histogram"
   ]
  },
  {
   "cell_type": "code",
   "execution_count": null,
   "id": "fac9b3c7",
   "metadata": {},
   "outputs": [],
   "source": [
    "\n",
    "import pandas as pd\n",
    "import matplotlib.pyplot as plt\n",
    "\n",
    "# Load the CSV file\n",
    "file_path = 'merged_sleep_step_data.csv'  # Replace with your file name\n",
    "data = pd.read_csv(file_path)\n",
    "\n",
    "# Create histograms for Sleep Duration and Step Count separately\n",
    "plt.figure(figsize=(12, 6))\n",
    "\n",
    "# Histogram for Sleep Duration\n",
    "plt.subplot(1, 2, 1)  # 1 row, 2 columns, position 1\n",
    "plt.hist(data['duration_hours'], bins=20, color='skyblue', edgecolor='black', alpha=0.7)\n",
    "plt.title('Histogram of Sleep Duration')\n",
    "plt.xlabel('Hours')\n",
    "plt.ylabel('Frequency')\n",
    "\n",
    "# Histogram for Step Count\n",
    "plt.subplot(1, 2, 2)  # 1 row, 2 columns, position 2\n",
    "plt.hist(data['steps'], bins=20, color='lightgreen', edgecolor='black', alpha=0.7)\n",
    "plt.title('Histogram of Step Count')\n",
    "plt.xlabel('Steps')\n",
    "plt.ylabel('Frequency')\n",
    "\n",
    "# Display the plots\n",
    "plt.tight_layout()\n",
    "plt.show()\n"
   ]
  },
  {
   "cell_type": "markdown",
   "id": "86bcbd4c",
   "metadata": {},
   "source": [
    "![Histogram](assets/Histogram_Separately.png)"
   ]
  },
  {
   "cell_type": "markdown",
   "id": "2c60450e",
   "metadata": {},
   "source": [
    "### Joint Plot"
   ]
  },
  {
   "cell_type": "code",
   "execution_count": null,
   "id": "4f978744",
   "metadata": {},
   "outputs": [],
   "source": [
    "\n",
    "import pandas as pd\n",
    "import seaborn as sns\n",
    "import matplotlib.pyplot as plt\n",
    "\n",
    "# Load the CSV file\n",
    "file_path = 'merged_sleep_step_data.csv'  # Replace with your file name\n",
    "data = pd.read_csv(file_path)\n",
    "\n",
    "# Set Seaborn style\n",
    "sns.set(style=\"whitegrid\", palette=\"muted\")\n",
    "\n",
    "# Create a joint plot\n",
    "joint_plot = sns.jointplot(\n",
    "    x='duration_hours',\n",
    "    y='steps',\n",
    "    data=data,\n",
    "    kind='scatter',\n",
    "    color='blue',\n",
    "    marginal_kws=dict(bins=30, fill=True)\n",
    ")\n",
    "\n",
    "# Set axis labels\n",
    "joint_plot.set_axis_labels(\"Sleep Duration (hours)\", \"Step Count\", fontsize=12)\n",
    "\n",
    "# Set a title for the plot\n",
    "plt.subplots_adjust(top=0.9)\n",
    "joint_plot.fig.suptitle(\"Joint Plot of Sleep Duration vs Step Count\", fontsize=14)\n",
    "\n",
    "plt.show()\n"
   ]
  },
  {
   "cell_type": "markdown",
   "id": "36e7cbea",
   "metadata": {},
   "source": [
    "![Joint Plot](assets/Joint_Plot.png)"
   ]
  },
  {
   "cell_type": "markdown",
   "id": "e94ae9f4",
   "metadata": {},
   "source": [
    "### Violin Plot"
   ]
  },
  {
   "cell_type": "code",
   "execution_count": null,
   "id": "8494ab46",
   "metadata": {},
   "outputs": [],
   "source": [
    "\n",
    "import pandas as pd\n",
    "import seaborn as sns\n",
    "import matplotlib.pyplot as plt\n",
    "\n",
    "# Load the CSV file\n",
    "file_path = 'merged_sleep_step_data.csv'  # Replace with your file name\n",
    "data = pd.read_csv(file_path)\n",
    "\n",
    "# Set up the figure\n",
    "plt.figure(figsize=(12, 6))\n",
    "\n",
    "# Create the violin plot for Sleep Duration\n",
    "plt.subplot(1, 2, 1)  # 1 row, 2 columns, position 1\n",
    "sns.violinplot(y=data['duration_hours'], color='skyblue')\n",
    "plt.title('Violin Plot of Sleep Duration')\n",
    "plt.ylabel('Sleep Duration (hours)')\n",
    "plt.grid()\n",
    "\n",
    "# Create the violin plot for Step Count\n",
    "plt.subplot(1, 2, 2)  # 1 row, 2 columns, position 2\n",
    "sns.violinplot(y=data['steps'], color='lightgreen')\n",
    "plt.title('Violin Plot of Step Count')\n",
    "plt.ylabel('Step Count')\n",
    "plt.grid()\n",
    "\n",
    "# Display the plots\n",
    "plt.tight_layout()\n",
    "plt.show()\n"
   ]
  },
  {
   "cell_type": "markdown",
   "id": "2cdca565",
   "metadata": {},
   "source": [
    "![Violin Plot](assets/Violin_Plot_Separately.png)"
   ]
  },
  {
   "cell_type": "markdown",
   "id": "90ddc437",
   "metadata": {},
   "source": [
    "### Correlation Matrix"
   ]
  },
  {
   "cell_type": "code",
   "execution_count": null,
   "id": "d3ee85b1",
   "metadata": {},
   "outputs": [],
   "source": [
    "\n",
    "import pandas as pd\n",
    "import seaborn as sns\n",
    "import matplotlib.pyplot as plt\n",
    "\n",
    "# Load the CSV file\n",
    "file_path = 'merged_sleep_step_data.csv'  # Replace with your file name\n",
    "data = pd.read_csv(file_path)\n",
    "\n",
    "# Compute the correlation matrix\n",
    "correlation_matrix = data[['duration_hours', 'steps']].corr()\n",
    "\n",
    "# Plot the correlation matrix as a heatmap\n",
    "plt.figure(figsize=(8, 6))\n",
    "sns.heatmap(correlation_matrix, annot=True, cmap='coolwarm', fmt=\".2f\")\n",
    "plt.title('Correlation Matrix')\n",
    "plt.show()\n"
   ]
  },
  {
   "cell_type": "markdown",
   "id": "1189f93b",
   "metadata": {},
   "source": [
    "![Correlation Matrix](assets/Corelation_Matrix.png)"
   ]
  },
  {
   "cell_type": "code",
   "execution_count": null,
   "id": "9decc5ad",
   "metadata": {},
   "outputs": [],
   "source": [
    "import pandas as pd\n",
    "import matplotlib.pyplot as plt\n",
    "\n",
    "# Load the dataset\n",
    "data = pd.read_csv('merged_sleep_step_data.csv')  # Replace with your file name\n",
    "\n",
    "plt.figure(figsize=(10, 6))\n",
    "plt.subplot(1, 2, 1)\n",
    "plt.boxplot(data['duration_hours'], patch_artist=True, boxprops=dict(facecolor=\"skyblue\"))\n",
    "plt.title('Boxplot of Sleep Duration')\n",
    "plt.ylabel('Hours')\n",
    "\n",
    "plt.subplot(1, 2, 2)\n",
    "plt.boxplot(data['steps'], patch_artist=True, boxprops=dict(facecolor=\"lightgreen\"))\n",
    "plt.title('Boxplot of Step Count')\n",
    "plt.ylabel('Steps')\n",
    "\n",
    "plt.tight_layout()\n",
    "plt.show()\n"
   ]
  },
  {
   "cell_type": "markdown",
   "id": "a7fc5930",
   "metadata": {},
   "source": [
    "![Boxplot](assets/Boxplot_Separately.png)"
   ]
  },
  {
   "cell_type": "code",
   "execution_count": null,
   "id": "021eb8c4",
   "metadata": {},
   "outputs": [],
   "source": [
    "import pandas as pd\n",
    "import matplotlib.pyplot as plt\n",
    "\n",
    "# Load the merged dataset\n",
    "file_path = 'merged_sleep_step_data.csv'  # Replace with your file name\n",
    "data = pd.read_csv(file_path)\n",
    "\n",
    "# Convert the date column to datetime format\n",
    "data['date'] = pd.to_datetime(data['date'])\n",
    "\n",
    "plt.figure(figsize=(8, 6))\n",
    "plt.scatter(data['duration_hours'], data['steps'], alpha=0.6, color='purple')\n",
    "plt.title('Correlation between Sleep Duration and Step Count')\n",
    "plt.xlabel('Sleep Duration (hours)')\n",
    "plt.ylabel('Step Count')\n",
    "plt.grid()\n",
    "plt.show()\n"
   ]
  },
  {
   "cell_type": "markdown",
   "id": "5168da92",
   "metadata": {},
   "source": [
    "![Scatter Plot](assets/Scatter_Plot.png)"
   ]
  }
 ],
 "metadata": {},
 "nbformat": 4,
 "nbformat_minor": 5
}
