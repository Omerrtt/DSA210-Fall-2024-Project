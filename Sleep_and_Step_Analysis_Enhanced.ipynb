{
 "cells": [
  {
   "cell_type": "markdown",
   "id": "24c923c6",
   "metadata": {},
   "source": [
    "# Sleep and Step Data Analysis\n",
    "\n",
    "This notebook consolidates all the data processing and visualization steps for analyzing the relationship between sleep duration and step counts.\n",
    "\n",
    "## Required Libraries\n",
    "Install necessary libraries before running the notebook:\n",
    "\n",
    "```bash\n",
    "pip install pandas matplotlib seaborn xmltodict\n",
    "```"
   ]
  },
  {
   "cell_type": "markdown",
   "id": "dcd8117d",
   "metadata": {},
   "source": [
    "## 1. Processing Sleep Data\n",
    "\n",
    "The raw sleep data in XML format is processed and saved as a CSV file for analysis."
   ]
  },
  {
   "cell_type": "code",
   "execution_count": null,
   "id": "7fa7841d",
   "metadata": {},
   "outputs": [],
   "source": [
    "\n",
    "import xmltodict\n",
    "import pandas as pd\n",
    "\n",
    "# Load the XML file\n",
    "with open(\"data/raw/sleep_data.xml\", \"r\", encoding=\"utf-8\") as file:\n",
    "    xml_data = file.read()\n",
    "\n",
    "# Parse XML data\n",
    "data_dict = xmltodict.parse(xml_data)\n",
    "records = data_dict[\"HealthData\"][\"Record\"]\n",
    "\n",
    "# Convert to DataFrame\n",
    "df = pd.DataFrame(records)\n",
    "\n",
    "# Filter sleep data\n",
    "sleep_data = df[df['@type'] == 'HKCategoryTypeIdentifierSleepAnalysis']\n",
    "\n",
    "# Save sleep data as CSV\n",
    "sleep_data_cleaned = sleep_data[['@startDate', '@endDate', '@value']]\n",
    "sleep_data_cleaned.rename(columns={\n",
    "    '@startDate': 'startDate',\n",
    "    '@endDate': 'endDate',\n",
    "    '@value': 'sleepState'\n",
    "}, inplace=True)\n",
    "sleep_data_cleaned.to_csv(\"data/processed/sleep_data.csv\", index=False)\n",
    "print(\"Sleep data processed successfully.\")\n"
   ]
  },
  {
   "cell_type": "markdown",
   "id": "f8cdb918",
   "metadata": {},
   "source": [
    "## 2. Processing Step Data\n",
    "\n",
    "The raw step data in XML format is processed and saved as a CSV file for analysis."
   ]
  },
  {
   "cell_type": "code",
   "execution_count": null,
   "id": "7273f095",
   "metadata": {},
   "outputs": [],
   "source": [
    "\n",
    "with open(\"data/raw/step_data.xml\", \"r\", encoding=\"utf-8\") as file:\n",
    "    xml_data = file.read()\n",
    "\n",
    "data_dict = xmltodict.parse(xml_data)\n",
    "records = data_dict[\"HealthData\"][\"Record\"]\n",
    "\n",
    "df = pd.DataFrame(records)\n",
    "\n",
    "# Filter step data\n",
    "step_data = df[df['@type'] == 'HKQuantityTypeIdentifierStepCount']\n",
    "\n",
    "step_data_cleaned = step_data[['@startDate', '@endDate', '@value']]\n",
    "step_data_cleaned.rename(columns={\n",
    "    '@startDate': 'startDate',\n",
    "    '@endDate': 'endDate',\n",
    "    '@value': 'steps'\n",
    "}, inplace=True)\n",
    "step_data_cleaned.to_csv(\"data/processed/step_data.csv\", index=False)\n",
    "print(\"Step data processed successfully.\")\n"
   ]
  },
  {
   "cell_type": "markdown",
   "id": "ae3c45ba",
   "metadata": {},
   "source": [
    "## 3. Merging Sleep and Step Data\n",
    "\n",
    "Merge the processed sleep and step data into a single dataset for analysis."
   ]
  },
  {
   "cell_type": "code",
   "execution_count": null,
   "id": "55f91fe6",
   "metadata": {},
   "outputs": [],
   "source": [
    "\n",
    "sleep_data = pd.read_csv(\"data/processed/sleep_data.csv\")\n",
    "step_data = pd.read_csv(\"data/processed/step_data.csv\")\n",
    "\n",
    "# Ensure date columns are datetime\n",
    "sleep_data['startDate'] = pd.to_datetime(sleep_data['startDate'])\n",
    "step_data['startDate'] = pd.to_datetime(step_data['startDate'])\n",
    "\n",
    "merged_data = pd.merge(sleep_data, step_data, on='startDate', how='inner')\n",
    "merged_data.to_csv(\"data/processed/merged_sleep_step_data.csv\", index=False)\n",
    "print(\"Merged data saved successfully.\")\n"
   ]
  },
  {
   "cell_type": "markdown",
   "id": "a7854f9b",
   "metadata": {},
   "source": [
    "## 4. Visualizing Data\n",
    "\n",
    "This section contains visualizations for exploring the relationship between sleep duration and step counts."
   ]
  },
  {
   "cell_type": "markdown",
   "id": "53e4c1e0",
   "metadata": {},
   "source": [
    "### Boxplot"
   ]
  },
  {
   "cell_type": "code",
   "execution_count": null,
   "id": "cffff1f4",
   "metadata": {},
   "outputs": [],
   "source": [
    "\n",
    "import matplotlib.pyplot as plt\n",
    "\n",
    "data = pd.read_csv(\"data/processed/merged_sleep_step_data.csv\")\n",
    "\n",
    "plt.figure(figsize=(12, 6))\n",
    "plt.subplot(1, 2, 1)\n",
    "plt.boxplot(data['duration_hours'], patch_artist=True, boxprops=dict(facecolor=\"lightblue\"))\n",
    "plt.title('Boxplot of Sleep Duration')\n",
    "plt.ylabel('Hours')\n",
    "\n",
    "plt.subplot(1, 2, 2)\n",
    "plt.boxplot(data['steps'], patch_artist=True, boxprops=dict(facecolor=\"lightgreen\"))\n",
    "plt.title('Boxplot of Step Count')\n",
    "plt.ylabel('Steps')\n",
    "\n",
    "plt.tight_layout()\n",
    "plt.show()\n"
   ]
  },
  {
   "cell_type": "markdown",
   "id": "eca4f3d7",
   "metadata": {},
   "source": [
    "![Boxplot](assets/Boxplot_Separately.png)"
   ]
  },
  {
   "cell_type": "markdown",
   "id": "2ae21f2f",
   "metadata": {},
   "source": [
    "### Scatter Plot"
   ]
  },
  {
   "cell_type": "code",
   "execution_count": null,
   "id": "5d7d0718",
   "metadata": {},
   "outputs": [],
   "source": [
    "\n",
    "plt.figure(figsize=(8, 6))\n",
    "plt.scatter(data['duration_hours'], data['steps'], alpha=0.6, color='purple')\n",
    "plt.title('Scatter Plot of Sleep Duration vs Step Count')\n",
    "plt.xlabel('Sleep Duration (hours)')\n",
    "plt.ylabel('Step Count')\n",
    "plt.grid()\n",
    "plt.show()\n"
   ]
  },
  {
   "cell_type": "markdown",
   "id": "0d2f60cf",
   "metadata": {},
   "source": [
    "![Scatter Plot](assets/Scatter_Plot.png)"
   ]
  }
 ],
 "metadata": {},
 "nbformat": 4,
 "nbformat_minor": 5
}
