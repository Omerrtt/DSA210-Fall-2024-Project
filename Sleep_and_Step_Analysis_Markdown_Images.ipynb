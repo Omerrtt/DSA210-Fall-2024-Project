{
 "cells": [
  {
   "cell_type": "markdown",
   "id": "4c818141",
   "metadata": {},
   "source": [
    "# Sleep and Step Data Analysis\n",
    "\n",
    "This notebook consolidates all the data processing and visualization steps for analyzing the relationship between sleep duration and step counts.\n",
    "\n",
    "## Required Libraries\n",
    "Install necessary libraries before running the notebook:\n",
    "\n",
    "```bash\n",
    "pip install pandas matplotlib seaborn xmltodict\n",
    "```"
   ]
  },
  {
   "cell_type": "markdown",
   "id": "7f9d216f",
   "metadata": {},
   "source": [
    "## Visualizing Data\n",
    "\n",
    "Explore the data using various visualization techniques."
   ]
  },
  {
   "cell_type": "markdown",
   "id": "704931bd",
   "metadata": {},
   "source": [
    "### 1. Boxplot"
   ]
  },
  {
   "cell_type": "code",
   "execution_count": null,
   "id": "fc05e041",
   "metadata": {},
   "outputs": [],
   "source": [
    "\n",
    "plt.figure(figsize=(12, 6))\n",
    "plt.subplot(1, 2, 1)\n",
    "plt.boxplot(data['duration_hours'], patch_artist=True, boxprops=dict(facecolor=\"lightblue\"))\n",
    "plt.title('Boxplot of Sleep Duration')\n",
    "plt.ylabel('Hours')\n",
    "\n",
    "plt.subplot(1, 2, 2)\n",
    "plt.boxplot(data['steps'], patch_artist=True, boxprops=dict(facecolor=\"lightgreen\"))\n",
    "plt.title('Boxplot of Step Count')\n",
    "plt.ylabel('Steps')\n",
    "\n",
    "plt.tight_layout()\n",
    "plt.show()\n"
   ]
  },
  {
   "cell_type": "code",
   "execution_count": null,
   "id": "1df49f08",
   "metadata": {},
   "outputs": [],
   "source": [
    "![Boxplot](assets/Boxplot_Separately.png)"
   ]
  },
  {
   "cell_type": "markdown",
   "id": "60d54ba8",
   "metadata": {},
   "source": [
    "### 2. Scatter Plot"
   ]
  },
  {
   "cell_type": "code",
   "execution_count": null,
   "id": "8bd87538",
   "metadata": {},
   "outputs": [],
   "source": [
    "\n",
    "plt.figure(figsize=(8, 6))\n",
    "plt.scatter(data['duration_hours'], data['steps'], alpha=0.6, color='purple')\n",
    "plt.title('Scatter Plot of Sleep Duration vs Step Count')\n",
    "plt.xlabel('Sleep Duration (hours)')\n",
    "plt.ylabel('Step Count')\n",
    "plt.grid()\n",
    "plt.show()\n"
   ]
  },
  {
   "cell_type": "code",
   "execution_count": null,
   "id": "9af16ea4",
   "metadata": {},
   "outputs": [],
   "source": [
    "display(Image(filename=\"assets/Scatter_Plot.png\"))"
   ]
  },
  {
   "cell_type": "markdown",
   "id": "afd05a68",
   "metadata": {},
   "source": [
    "### 3. Hexbin Plot"
   ]
  },
  {
   "cell_type": "code",
   "execution_count": null,
   "id": "397e4a3d",
   "metadata": {},
   "outputs": [],
   "source": [
    "\n",
    "plt.figure(figsize=(12, 6))\n",
    "plt.hexbin(data['duration_hours'], data['steps'], gridsize=30, cmap='Blues', mincnt=1)\n",
    "plt.colorbar(label='Count')\n",
    "plt.title('Hexbin Plot of Sleep Duration vs Step Count')\n",
    "plt.xlabel('Sleep Duration (hours)')\n",
    "plt.ylabel('Step Count')\n",
    "plt.show()\n"
   ]
  },
  {
   "cell_type": "code",
   "execution_count": null,
   "id": "f7c3efd4",
   "metadata": {},
   "outputs": [],
   "source": [
    "display(Image(filename=\"assets/Hexbin_Plot.png\"))"
   ]
  },
  {
   "cell_type": "markdown",
   "id": "bbeead22",
   "metadata": {},
   "source": [
    "### 4. Histogram"
   ]
  },
  {
   "cell_type": "code",
   "execution_count": null,
   "id": "dee1e683",
   "metadata": {},
   "outputs": [],
   "source": [
    "\n",
    "plt.figure(figsize=(12, 6))\n",
    "plt.subplot(1, 2, 1)\n",
    "plt.hist(data['duration_hours'], bins=20, color='skyblue', edgecolor='black', alpha=0.7)\n",
    "plt.title('Histogram of Sleep Duration')\n",
    "plt.xlabel('Hours')\n",
    "plt.ylabel('Frequency')\n",
    "\n",
    "plt.subplot(1, 2, 2)\n",
    "plt.hist(data['steps'], bins=20, color='lightgreen', edgecolor='black', alpha=0.7)\n",
    "plt.title('Histogram of Step Count')\n",
    "plt.xlabel('Steps')\n",
    "plt.ylabel('Frequency')\n",
    "\n",
    "plt.tight_layout()\n",
    "plt.show()\n"
   ]
  },
  {
   "cell_type": "code",
   "execution_count": null,
   "id": "fc907525",
   "metadata": {},
   "outputs": [],
   "source": [
    "![Histogram](assets/Histogram_Separately.png)"
   ]
  },
  {
   "cell_type": "markdown",
   "id": "d5ae6db6",
   "metadata": {},
   "source": [
    "### 5. Violin Plot"
   ]
  },
  {
   "cell_type": "code",
   "execution_count": null,
   "id": "bc6cec73",
   "metadata": {},
   "outputs": [],
   "source": [
    "\n",
    "plt.figure(figsize=(12, 6))\n",
    "plt.subplot(1, 2, 1)\n",
    "sns.violinplot(y=data['duration_hours'], color='skyblue')\n",
    "plt.title('Violin Plot of Sleep Duration')\n",
    "plt.ylabel('Sleep Duration (hours)')\n",
    "plt.grid()\n",
    "\n",
    "plt.subplot(1, 2, 2)\n",
    "sns.violinplot(y=data['steps'], color='lightgreen')\n",
    "plt.title('Violin Plot of Step Count')\n",
    "plt.ylabel('Step Count')\n",
    "plt.grid()\n",
    "\n",
    "plt.tight_layout()\n",
    "plt.show()\n"
   ]
  },
  {
   "cell_type": "code",
   "execution_count": null,
   "id": "97c7bbb5",
   "metadata": {},
   "outputs": [],
   "source": [
    "display(Image(filename=\"assets/Violin_Plot_Separately.png\"))"
   ]
  },
  {
   "cell_type": "markdown",
   "id": "fb86edca",
   "metadata": {},
   "source": [
    "### 6. Correlation Matrix"
   ]
  },
  {
   "cell_type": "code",
   "execution_count": null,
   "id": "7891295f",
   "metadata": {},
   "outputs": [],
   "source": [
    "\n",
    "correlation_matrix = data[['duration_hours', 'steps']].corr()\n",
    "sns.heatmap(correlation_matrix, annot=True, cmap='coolwarm', fmt=\".2f\")\n",
    "plt.title('Correlation Matrix')\n",
    "plt.show()\n"
   ]
  },
  {
   "cell_type": "code",
   "execution_count": null,
   "id": "5ad733dc",
   "metadata": {},
   "outputs": [],
   "source": [
    "display(Image(filename=\"assets/Corelation_Matrix.png\"))"
   ]
  },
  {
   "cell_type": "markdown",
   "id": "3735f6d0",
   "metadata": {},
   "source": [
    "### 7. Joint Plot"
   ]
  },
  {
   "cell_type": "code",
   "execution_count": null,
   "id": "06649857",
   "metadata": {},
   "outputs": [],
   "source": [
    "\n",
    "sns.jointplot(\n",
    "    x='duration_hours',\n",
    "    y='steps',\n",
    "    data=data,\n",
    "    kind='scatter',\n",
    "    color='blue',\n",
    "    marginal_kws=dict(bins=30, fill=True)\n",
    ")\n",
    "plt.show()\n"
   ]
  },
  {
   "cell_type": "code",
   "execution_count": null,
   "id": "b6db169b",
   "metadata": {},
   "outputs": [],
   "source": [
    "display(Image(filename=\"assets/Joint_Plot.png\"))"
   ]
  },
  {
   "cell_type": "markdown",
   "id": "3d898ad1",
   "metadata": {},
   "source": [
    "### 8. Dual Y-Axis Time Series Chart"
   ]
  },
  {
   "cell_type": "code",
   "execution_count": null,
   "id": "93aa9e69",
   "metadata": {},
   "outputs": [],
   "source": [
    "\n",
    "fig, ax1 = plt.subplots(figsize=(12, 6))\n",
    "ax1.set_xlabel('Date')\n",
    "ax1.set_ylabel('Sleep Duration (hours)', color='blue')\n",
    "ax1.plot(data['date'], data['duration_hours'], label='Sleep Duration (hours)', color='blue')\n",
    "ax1.tick_params(axis='y', labelcolor='blue')\n",
    "\n",
    "ax2 = ax1.twinx()\n",
    "ax2.set_ylabel('Step Count', color='green')\n",
    "ax2.plot(data['date'], data['steps'], label='Step Count', color='green', alpha=0.7)\n",
    "ax2.tick_params(axis='y', labelcolor='green')\n",
    "\n",
    "plt.title('Time Series of Sleep Duration and Step Count')\n",
    "plt.grid()\n",
    "plt.show()\n"
   ]
  },
  {
   "cell_type": "code",
   "execution_count": null,
   "id": "4ecb285c",
   "metadata": {},
   "outputs": [],
   "source": [
    "display(Image(filename=\"assets/Dual_Y_Axis_Time_Series_Chart.png\"))"
   ]
  }
 ],
 "metadata": {},
 "nbformat": 4,
 "nbformat_minor": 5
}
